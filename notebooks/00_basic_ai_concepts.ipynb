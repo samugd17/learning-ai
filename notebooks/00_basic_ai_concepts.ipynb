{
 "cells": [
  {
   "cell_type": "markdown",
   "id": "3e996cc9",
   "metadata": {},
   "source": [
    "# Basic AI Concepts\n",
    "\n",
    "\"These are fundamental concepts, briefly explained, that you need to understand before diving into advanced AI topics.\"\n",
    "\n",
    "<img src=\"img/ai.webp\" width=\"500px\">\n",
    "\n",
    "---"
   ]
  },
  {
   "cell_type": "markdown",
   "id": "e46efe5b",
   "metadata": {},
   "source": [
    "### · Artificial Intelligence (AI):\n",
    "\n",
    "AI refers to machines or systems designed to perform tasks that typically require human intelligence.\n",
    "\n",
    "Examples: recognizing images, understanding language, making decisions."
   ]
  },
  {
   "cell_type": "markdown",
   "id": "ed12cc86",
   "metadata": {},
   "source": [
    "### · AI Agent\n",
    "\n",
    "An **AI Agent** is an autonomous system that perceives its environment through sensors, processes the information, and performs actions through actuators to achieve specific goals.\n",
    "\n",
    "**Examples of AI Agents:**\n",
    "- A self-driving car that perceives the road and controls steering and speed.\n",
    "- A chatbot that processes user input and generates appropriate responses.\n",
    "- A stock trading bot that decides when to buy or sell based on market data."
   ]
  },
  {
   "cell_type": "markdown",
   "id": "1602593a",
   "metadata": {},
   "source": [
    "### · Machine Learning (ML):\n",
    "\n",
    "ML is a subset of AI where machines learn patterns from data instead of being explicitly programmed.\n",
    "\n",
    "**Types of ML:**\n",
    "\n",
    "- **Supervised Learning:** Models learn from labeled data to make predictions.\n",
    "- **Unsupervised Learning:** Models find patterns or groupings in unlabeled data.\n",
    "- **Reinforcement Learning:** Agents learn to make decisions by receiving rewards or penalties."
   ]
  },
  {
   "cell_type": "markdown",
   "id": "05ce587f",
   "metadata": {},
   "source": [
    "### · Deep Learning (DL):\n",
    "\n",
    "A subfield of ML that uses deep neural networks with multiple layers to learn complex patterns.\n",
    "Commonly used for image recognition, natural language processing, etc."
   ]
  },
  {
   "cell_type": "markdown",
   "id": "d2674a0a",
   "metadata": {},
   "source": [
    "### · Natural Language Processing (NLP)\n",
    "Natural Language Processing (NLP) is a field of Artificial Intelligence that focuses on the interaction between computers and human (natural) languages. The goal is to enable machines to understand, interpret, and generate human language in a meaningful way."
   ]
  },
  {
   "cell_type": "markdown",
   "id": "51afad63",
   "metadata": {},
   "source": [
    "### · Token\n",
    "A token is a unit of text (word, subword, or character) processed by NLP models.\n",
    "Models work with sequences of tokens rather than raw text."
   ]
  },
  {
   "cell_type": "markdown",
   "id": "8764da7f",
   "metadata": {},
   "source": [
    "### · Large Language Models (LLMs)\n",
    "LLMs are AI models trained on massive amounts of text data.\n",
    "They can understand and generate human language.\n",
    "\n",
    "Example architectures: GPT, Claude, Gemini."
   ]
  },
  {
   "cell_type": "markdown",
   "id": "cea1e8ec",
   "metadata": {},
   "source": [
    "### · Dataset:\n",
    "\n",
    "A dataset is a structured collection of data used to train and evaluate ML models. \n",
    "The quality and quantity of the dataset are crucial for the success of the model.\n",
    "Datasets can be in forms like tables, images, text, or audio."
   ]
  },
  {
   "cell_type": "markdown",
   "id": "13048e15",
   "metadata": {},
   "source": [
    "### · Neural Network:\n",
    "\n",
    "A neural network is a system of interconnected nodes (neurons) inspired by the human brain. It can learn patterns from data by adjusting weights during training. Neural networks are the foundation of Deep Learning."
   ]
  },
  {
   "cell_type": "markdown",
   "id": "e8bf2d37",
   "metadata": {},
   "source": [
    "### · Inference:\n",
    "\n",
    "Inference is the phase where a trained model makes predictions on new, unseen data."
   ]
  },
  {
   "cell_type": "markdown",
   "id": "f6495821",
   "metadata": {},
   "source": [
    "### · Training:\n",
    "Training is the process where a model learns from a dataset by adjusting its parameters to minimize errors and improve performance."
   ]
  },
  {
   "cell_type": "markdown",
   "id": "98c56267",
   "metadata": {},
   "source": [
    "### · Evaluation vs Generalization:\n",
    "\n",
    "- **Evaluation** is the process of measuring a model’s performance using a specific dataset (usually validation or test data). It involves calculating metrics like accuracy, precision, or recall to understand how well the model works.\n",
    "\n",
    "- **Generalization** is the model’s ability to perform well on new, unseen data beyond the training and evaluation sets. It reflects whether the model has truly learned meaningful patterns instead of just memorizing training examples."
   ]
  },
  {
   "cell_type": "markdown",
   "id": "3887a386",
   "metadata": {},
   "source": [
    "### · Overfitting & Underfitting:\n",
    "\n",
    "Both overfitting and underfitting are common errors that occur when training machine learning models:\n",
    "\n",
    "- **Overfitting** happens when a model learns the training data too well, including its noise and random fluctuations. As a result, it performs very well on the training data but poorly on new, unseen data because it fails to generalize.\n",
    "\n",
    "- **Underfitting** occurs when a model is too simple to capture the underlying patterns in the data. It performs poorly both on the training data and on new data because it cannot learn the relationship properly."
   ]
  },
  {
   "cell_type": "markdown",
   "id": "35e93272",
   "metadata": {},
   "source": [
    "### · Prompt Engineering\n",
    "The practice of crafting input prompts to guide the behavior of language models effectively.\n",
    "Essential when interacting with LLMs to achieve desired outputs."
   ]
  }
 ],
 "metadata": {
  "language_info": {
   "name": "python"
  }
 },
 "nbformat": 4,
 "nbformat_minor": 5
}
