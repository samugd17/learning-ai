{
 "cells": [
  {
   "cell_type": "markdown",
   "id": "7954fc5d",
   "metadata": {},
   "source": [
    "# AI Agent Design Patterns\n",
    "\n",
    "In this notebook, we will explore the four basic design patterns commonly used in building intelligent agents in AI systems.\n",
    "\n",
    "These patterns help in structuring agents to solve complex problems by defining how agents think, plan, act, and collaborate."
   ]
  },
  {
   "cell_type": "markdown",
   "id": "2e2b1dc1",
   "metadata": {},
   "source": [
    "##  🤖 But first of all... What is an AI Agent?\n",
    "\n",
    "An **AI Agent** is an autonomous system that perceives its environment through sensors, processes the information, and performs actions through actuators to achieve specific goals.\n",
    "\n",
    "#### Key Characteristics of an AI Agent:\n",
    "- **Perception**: The agent gathers information from the environment using sensors (e.g., cameras, microphones, data streams).\n",
    "- **Decision-Making**: Based on its perceptions, the agent decides which actions to take to fulfill its objectives.\n",
    "- **Action**: The agent interacts with the environment through actuators (e.g., motors, displays, or software actions).\n",
    "\n",
    "#### Types of AI Agents (based on intelligence level):\n",
    "1. **Simple Reflex Agents**: React directly to perceptions using condition-action rules.\n",
    "2. **Model-Based Reflex Agents**: Maintain an internal state (memory) to handle incomplete information.\n",
    "3. **Goal-Based Agents**: Make decisions aiming to achieve defined goals.\n",
    "4. **Utility-Based Agents**: Evaluate actions based on a utility function to choose the most beneficial action.\n",
    "\n",
    "#### Examples of AI Agents:\n",
    "- A self-driving car that perceives the road and controls steering and speed.\n",
    "- A chatbot that processes user input and generates appropriate responses.\n",
    "- A stock trading bot that decides when to buy or sell based on market data.\n",
    "\n",
    "In summary, an AI Agent is anything that can **observe, decide, and act autonomously** within an environment to achieve its goals.\n",
    "\n",
    "\n",
    "---"
   ]
  },
  {
   "cell_type": "markdown",
   "id": "3531ea0d",
   "metadata": {},
   "source": [
    "### Reflection Pattern\n",
    "\n",
    "The Reflection Pattern is characterized by an agent that can observe and reason about its own internal processes and state. It effectively \"reflects\" on itself to improve or adapt its behavior.\n",
    "\n",
    "- The agent has two levels:  \n",
    "  - **Base Level:** Where the main tasks or actions happen.  \n",
    "  - **Meta Level:** Which monitors and can modify the base level's behavior dynamically.\n",
    "\n",
    "- The agent typically runs in a loop where it:  \n",
    "  1. Performs its regular task.  \n",
    "  2. Observes its performance or environment.  \n",
    "  3. Reflects on whether the current strategy or state is working well.  \n",
    "  4. Decides to continue, adjust parameters, or switch strategies.  \n",
    "  5. Repeats this process.\n",
    "\n",
    "- The loop can iterate a fixed number of times or run until a goal is met or an external stopping condition occurs (e.g., task completed, time limit reached, error threshold exceeded).\n",
    "\n",
    "**Example:**  \n",
    "A robot vacuum cleaner that notices it gets stuck in corners and adjusts its path-planning algorithm to avoid those spots next time.\n",
    "\n",
    "Reflection enables self-awareness, self-diagnosis, and self-improvement in an agent, making it adaptable in dynamic or uncertain environments.\n",
    "\n",
    "<img src=\"img/reflection-pattern.webp\" width=\"500px\">\n",
    "\n"
   ]
  },
  {
   "cell_type": "markdown",
   "id": "6f72f56b",
   "metadata": {},
   "source": [
    "### Tool Use Pattern\n",
    "\n",
    "The Tool Pattern defines an agent that acts as a specialized tool or service provider with limited autonomy.\n",
    "\n",
    "- Such agents focus on executing well-defined tasks or services efficiently and reliably.  \n",
    "- They usually do not make complex decisions or learn by themselves.  \n",
    "- Instead, they wait for requests or commands from other agents or systems, then perform their specific function and return results.\n",
    "\n",
    "- Because of their narrow scope, Tool Pattern agents are simple but crucial components in larger agent architectures.\n",
    "\n",
    "**Example:**  \n",
    "A translation agent that translates text only when requested, without making any autonomous decisions about when or what to translate.\n",
    "\n",
    "This pattern is common for utility agents, modules, or APIs that provide discrete functionality within a broader intelligent system.\n",
    "\n",
    "<img src=\"img/tool-use-pattern.webp\" width=\"500px\">"
   ]
  },
  {
   "cell_type": "markdown",
   "id": "cbbb767f",
   "metadata": {},
   "source": [
    "### Planning Pattern\n",
    "\n",
    "Agents following the Planning Pattern generate explicit plans or sequences of actions to achieve one or more goals.\n",
    "\n",
    "- They use planning algorithms (e.g., search, heuristics, constraint satisfaction) to decide which actions to perform and in what order.  \n",
    "- Plans may include sub-goals and depend on the current state of the environment.\n",
    "\n",
    "- The agent can:  \n",
    "  1. Set a goal or receive a task.  \n",
    "  2. Generate a plan that breaks down the goal into actionable steps.  \n",
    "  3. Execute the plan step-by-step, monitoring progress.  \n",
    "  4. Replan if the environment changes or unexpected events occur.\n",
    "\n",
    "**Example:**  \n",
    "A delivery drone that plans the best route to drop packages in multiple locations while avoiding obstacles and no-fly zones.\n",
    "\n",
    "Planning agents are essential in domains where decision-making over time and resource management is critical.\n",
    "\n",
    "<img src=\"img/planning-pattern.webp\" width=\"500px\">"
   ]
  },
  {
   "cell_type": "markdown",
   "id": "f47fb45b",
   "metadata": {},
   "source": [
    "### Multi-Agent Pattern\n",
    "\n",
    "The Multi-Agent Pattern involves multiple autonomous agents interacting to solve problems collectively.\n",
    "\n",
    "- Agents can communicate, cooperate, negotiate, or compete depending on the system goals.  \n",
    "- The system benefits from distributed problem-solving, robustness, and scalability.\n",
    "\n",
    "- Interaction models may include:  \n",
    "  - Collaborative teamwork (agents share information and coordinate)  \n",
    "  - Competitive environments (agents try to outperform others)  \n",
    "  - Market-based or negotiation frameworks.\n",
    "\n",
    "**Example:**  \n",
    "A fleet of autonomous taxis coordinating pickups and drop-offs to optimize routes and minimize wait times.\n",
    "\n",
    "Multi-agent systems model complex, real-world scenarios where multiple decision-makers interact in a shared environment.\n",
    "\n",
    "<img src=\"img/multi-agent-pattern.webp\" width=\"500px\">"
   ]
  }
 ],
 "metadata": {
  "language_info": {
   "name": "python"
  }
 },
 "nbformat": 4,
 "nbformat_minor": 5
}
